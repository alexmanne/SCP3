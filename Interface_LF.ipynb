{
 "cells": [
  {
   "cell_type": "markdown",
   "metadata": {},
   "source": [
    "# User Interface\n",
    "\n",
    "This Jupyter notebook is intended to assist in the post processing analysis of Single Cell Proteomic data.\n",
    "\n",
    "\n",
    "\n",
    "\n"
   ]
  },
  {
   "cell_type": "markdown",
   "metadata": {},
   "source": [
    "## Imports\n",
    "\n",
    "The following cell contains all of the necessary import for this notebook to run. Please make sure this is run every time you wish to work with the notebook"
   ]
  },
  {
   "cell_type": "code",
   "execution_count": 1,
   "metadata": {},
   "outputs": [],
   "source": [
    "import read_files as rf\n"
   ]
  },
  {
   "cell_type": "markdown",
   "metadata": {},
   "source": [
    "## Prep Files\n",
    "\n",
    "Read in the protein/peptide files as well as the settings file"
   ]
  },
  {
   "cell_type": "markdown",
   "metadata": {},
   "source": [
    "### Read Files"
   ]
  },
  {
   "cell_type": "markdown",
   "metadata": {},
   "source": [
    "The following cell calls one function that accepts one variable called filelist. It is a list of dictionaries and allows you to analyze multiple protein/peptide file  duos at the same time.   \n",
    "\n",
    "**Syntax** \n",
    "\n",
    "The general syntax should look like square brackets \"[]\" around a list of curly brackets \"{}\" that are separated by commas.     \n",
    "\n",
    "The curly brackets \"{}\" denote a dictionary which is another list of items separated by commas. This time however, each item in the list contains a key:value pair. The key is the type of file (\"protein_file\") and the value is the name of the actual file \"input/report.pg_matrix.tsv\".     \n",
    "\n",
    "Example of a dictionary:     \n",
    "{\"protein_file\": \"input/report.pg_matrix.tsv\",    \n",
    " \"peptide_file\": \"input/report.pr_matrix.tsv\",\n",
    " \"processing app\": \"diann\"}\n",
    "\n",
    "Example of a list: \n",
    "[        \n",
    "{dictionary from above},   \n",
    "     \n",
    "{second dictionary}     \n",
    "]\n",
    "\n",
    "\n",
    "**Notes**\n",
    "\n",
    "_Note 1_: Place the file_name in quotes. If the file is in a sub folder, write the name of the subfolder, followed by a \"/\", then the name of the file.\n",
    "\n",
    "_Note 2_: The following columns are required in the tsv files for the program to run\n",
    "- Protein.Names\n",
    "- Protein.Group (just in protein)\n",
    "- Precursor.Id (just in peptide)\n",
    "- File names (with / in the name)"
   ]
  },
  {
   "cell_type": "code",
   "execution_count": null,
   "metadata": {},
   "outputs": [],
   "source": [
    "filelist = [\n",
    "    {\"protein_file\": \"input/report.pg_matrix.tsv\", \n",
    "     \"peptide_file\": \"input/report.pr_matrix.tsv\",\n",
    "     \"processing_app\": \"diann\"\n",
    "     },\n",
    "     \n",
    "    {\"protein_file\": \"input/HYE_prot_matrix.tsv\", \n",
    "     \"peptide_file\": \"input/HYE_pep_matrix.tsv\",\n",
    "     \"processing_app\": \"diann\"\n",
    "     },\n",
    "\n",
    "    {\"protein_file\": \"input/fragpipe_combined_protein.tsv\", \n",
    "     \"peptide_file\": \"input/fragpipe_combined_peptide.tsv\",\n",
    "     \"processing_app\": \"fragpipe\"\n",
    "     }\n",
    "]\n",
    "\n",
    "data_obj = rf.read_files(filelist)"
   ]
  },
  {
   "cell_type": "markdown",
   "metadata": {},
   "source": [
    "### Settings File"
   ]
  },
  {
   "cell_type": "markdown",
   "metadata": {},
   "source": [
    "#### Description"
   ]
  },
  {
   "cell_type": "markdown",
   "metadata": {},
   "source": [
    "The Settings File can be used to tell the program how to filter, group, and name the data.\n",
    "\n",
    "The program expects the settings file to be tab-delimited. This means there is a grid like structure to the file with tabs separating the columns. To create or edit a settings file, open it in excel, make the edits, then save the file as a Tab delimited Text (.txt) file. This should be an option in the \"Save as\" on Excel.\n",
    "\n",
    "The settings file has 4 required columns: \"Conditions\", \"filter_in\", \"filter_out\", and \"Organism\"\n",
    "\n",
    "- Conditions:\n",
    "  - This is the name of the differing groups in the data. This creates a group that lines up with the row.\n",
    "  - Ex: \"human a\" or \"bacteria b\"\n",
    "\n",
    "- filter_in:\n",
    "  - This is a part of the file name (column) that you wish to include in the group. If you wish to add multiple snippets, separate them by commas.\n",
    "  - Ex: \"Hela_1cpw\" or \"HYEA_250pg\"\n",
    "\n",
    "- filter_out:\n",
    "  - This is a part of the file name (column) that you wish to specifically exclude from the group. If you wish to add multiple snippets, separate them by commas.\n",
    "  - Ex: \"Hela_1cpw\" or \"HYEA_250pg\"\n",
    "\n",
    "- Organism:\n",
    "  - This is organism you wish to include in this group (needs to be ALL CAPS like it is in the Protein.Names column)\n",
    "  - Ex: \"HUMAN\" or \"ECOLI\"\n",
    "\n",
    "After these columns, you may add other columns to further group the data together. For example, if you wished to group all yeast and human data, you can add a fifth column called \"Combined\", with the name \"Yeast_Human\" on each row of yeast and each row of human, then \"Other\" in every other row."
   ]
  }
 ],
 "metadata": {
  "kernelspec": {
   "display_name": ".venvchem",
   "language": "python",
   "name": "python3"
  },
  "language_info": {
   "codemirror_mode": {
    "name": "ipython",
    "version": 3
   },
   "file_extension": ".py",
   "mimetype": "text/x-python",
   "name": "python",
   "nbconvert_exporter": "python",
   "pygments_lexer": "ipython3",
   "version": "3.11.10"
  }
 },
 "nbformat": 4,
 "nbformat_minor": 2
}
