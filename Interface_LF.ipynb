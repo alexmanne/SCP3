{
 "cells": [
  {
   "cell_type": "markdown",
   "metadata": {},
   "source": [
    "# User Interface\n",
    "\n",
    "This Jupyter notebook is intended to assist in the post processing analysis of Single Cell Proteomic data.\n",
    "\n",
    "\n",
    "\n",
    "\n"
   ]
  },
  {
   "cell_type": "markdown",
   "metadata": {},
   "source": [
    "## Imports\n",
    "\n",
    "The following cell contains all of the necessary import for this notebook to run. Please make sure this is run every time you wish to work with the notebook"
   ]
  },
  {
   "cell_type": "code",
   "execution_count": 8,
   "metadata": {},
   "outputs": [],
   "source": [
    "import read_file as rf\n"
   ]
  },
  {
   "cell_type": "markdown",
   "metadata": {},
   "source": [
    "## Prep Files\n",
    "\n",
    "Read in the files to analyze as well as the settings file"
   ]
  },
  {
   "cell_type": "markdown",
   "metadata": {},
   "source": [
    "### Read Files"
   ]
  },
  {
   "cell_type": "markdown",
   "metadata": {},
   "source": [
    "The following cell accepts two variables.   \n",
    "- protein_file: name of the file that contains the protein (pg) matrix.    \n",
    "  - Example: \"input/report.pg_matrix.tsv\"\n",
    "- peptide_file: name of the file that contains the peptide (pr) matrix.      \n",
    "  - Example: \"input/report.pr_matrix.tsv\"\n",
    "\n",
    "Note 1: Place the name in quotes. If the file is in a sub folder, write the name of the subfolder, followed by a \"/\", then the name of the file.\n",
    "\n",
    "Note 2: The following columns are required in the tsv files for the program to run\n",
    "- Protein.Names\n",
    "- Protein.Group (just in protein)\n",
    "- Precursor.Id (just in peptide)\n",
    "- File names (with / in the name)"
   ]
  },
  {
   "cell_type": "code",
   "execution_count": 9,
   "metadata": {},
   "outputs": [],
   "source": [
    "protein_file = \"input/HYE_prot_matrix.tsv\"\n",
    "peptide_file = \"input/HYE_pep_matrix.tsv\"\n",
    "\n",
    "data_obj = rf.read_files(protein_file, peptide_file)"
   ]
  }
 ],
 "metadata": {
  "kernelspec": {
   "display_name": ".venvchem",
   "language": "python",
   "name": "python3"
  },
  "language_info": {
   "codemirror_mode": {
    "name": "ipython",
    "version": 3
   },
   "file_extension": ".py",
   "mimetype": "text/x-python",
   "name": "python",
   "nbconvert_exporter": "python",
   "pygments_lexer": "ipython3",
   "version": "3.11.10"
  }
 },
 "nbformat": 4,
 "nbformat_minor": 2
}
