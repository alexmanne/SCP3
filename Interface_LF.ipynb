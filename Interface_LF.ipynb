{
 "cells": [
  {
   "cell_type": "markdown",
   "metadata": {},
   "source": [
    "# User Interface\n",
    "\n",
    "This Jupyter notebook is intended to assist in the post processing analysis of Single Cell Proteomic data.\n",
    "\n",
    "\n",
    "\n",
    "\n"
   ]
  },
  {
   "cell_type": "markdown",
   "metadata": {},
   "source": [
    "## Imports\n",
    "\n",
    "The following cell contains all of the necessary import for this notebook to run. Please make sure this is run every time you wish to work with the notebook"
   ]
  },
  {
   "cell_type": "code",
   "execution_count": 1,
   "metadata": {},
   "outputs": [],
   "source": [
    "import python_files.read_files as rf\n",
    "import python_files.create_defaults as cd"
   ]
  },
  {
   "cell_type": "markdown",
   "metadata": {},
   "source": [
    "## Prep Files\n",
    "\n",
    "Read in the protein/peptide files as well as the settings file"
   ]
  },
  {
   "cell_type": "markdown",
   "metadata": {},
   "source": [
    "### Generate Default Settings\n"
   ]
  },
  {
   "cell_type": "markdown",
   "metadata": {},
   "source": [
    "\n",
    "If Create_Defaults is False, then no template files will be created. \n",
    "\n",
    "If Create_Defaults is True, then the following files will be created.    \n",
    "- default_file_template.yaml\n",
    "  - Change the number of files to create the right number!\n",
    "\n",
    "WARNING: This function will overwrite any file with the same name. So change the name of your files before pressing play on the cell\n",
    "\n"
   ]
  },
  {
   "cell_type": "code",
   "execution_count": 2,
   "metadata": {},
   "outputs": [],
   "source": [
    "Create_Defaults = True\n",
    "\n",
    "if Create_Defaults:\n",
    "    number_of_files = 6\n",
    "    cd.generate_input_files_template(number_of_files)"
   ]
  },
  {
   "cell_type": "markdown",
   "metadata": {},
   "source": [
    "### Read Data"
   ]
  },
  {
   "cell_type": "markdown",
   "metadata": {},
   "source": [
    "The following cell calls one function that accepts one variable called yaml_input_files. It is a file (.yaml) that carries the information regarding the protein and peptide matrices to be processed.     \n",
    "\n",
    "For a template for this file, change \"Create_Defaults\" to True above. (Change number_of_files to generate the right number of template spots).    \n",
    "Be sure to change the name of your files so it is not overwritten.\n",
    "\n",
    "**Notes**\n",
    "\n",
    "_Note 1_: Place the file_name in quotes.     \n",
    "_Note 2_: If the file is in a sub folder, write the name of the subfolder, followed by a \"/\", then the name of the file.\n"
   ]
  },
  {
   "cell_type": "code",
   "execution_count": 3,
   "metadata": {},
   "outputs": [],
   "source": [
    "yaml_input_files = \"input_files.yaml\"\n",
    "\n",
    "data_obj = rf.read_files(yaml_input_files)"
   ]
  },
  {
   "cell_type": "markdown",
   "metadata": {},
   "source": [
    "### Settings File"
   ]
  },
  {
   "cell_type": "markdown",
   "metadata": {},
   "source": [
    "#### Description"
   ]
  },
  {
   "cell_type": "markdown",
   "metadata": {},
   "source": [
    "The Settings File can be used to tell the program how to filter, group, and name the data.\n",
    "\n",
    "The program expects the settings file to be tab-delimited. This means there is a grid like structure to the file with tabs separating the columns. To create or edit a settings file, open it in excel, make the edits, then save the file as a Tab delimited Text (.txt) file. This should be an option in the \"Save as\" on Excel.\n",
    "\n",
    "The settings file has 4 required columns: \"Conditions\", \"filter_in\", \"filter_out\", and \"Organism\"\n",
    "\n",
    "- Conditions:\n",
    "  - This is the name of the differing groups in the data. This creates a group that lines up with the row.\n",
    "  - Ex: \"human a\" or \"bacteria b\"\n",
    "\n",
    "- filter_in:\n",
    "  - This is a part of the file name (column) that you wish to include in the group. If you wish to add multiple snippets, separate them by commas.\n",
    "  - Ex: \"Hela_1cpw\" or \"HYEA_250pg\"\n",
    "\n",
    "- filter_out:\n",
    "  - This is a part of the file name (column) that you wish to specifically exclude from the group. If you wish to add multiple snippets, separate them by commas.\n",
    "  - Ex: \"Hela_1cpw\" or \"HYEA_250pg\"\n",
    "\n",
    "- Organism:\n",
    "  - This is organism you wish to include in this group (needs to be ALL CAPS like it is in the Protein.Names column)\n",
    "  - Ex: \"HUMAN\" or \"ECOLI\"\n",
    "\n",
    "After these columns, you may add other columns to further group the data together. For example, if you wished to group all yeast and human data, you can add a fifth column called \"Combined\", with the name \"Yeast_Human\" on each row of yeast and each row of human, then \"Other\" in every other row."
   ]
  }
 ],
 "metadata": {
  "kernelspec": {
   "display_name": ".venvchem",
   "language": "python",
   "name": "python3"
  },
  "language_info": {
   "codemirror_mode": {
    "name": "ipython",
    "version": 3
   },
   "file_extension": ".py",
   "mimetype": "text/x-python",
   "name": "python",
   "nbconvert_exporter": "python",
   "pygments_lexer": "ipython3",
   "version": "3.11.10"
  }
 },
 "nbformat": 4,
 "nbformat_minor": 2
}
