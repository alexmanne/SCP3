{
 "cells": [
  {
   "cell_type": "markdown",
   "metadata": {},
   "source": [
    "# User Interface\n",
    "\n",
    "This Jupyter notebook is intended to assist in the post processing analysis of Single Cell Proteomic data.\n",
    "\n",
    "\n",
    "\n",
    "\n"
   ]
  },
  {
   "cell_type": "markdown",
   "metadata": {},
   "source": [
    "## Imports\n",
    "\n",
    "The following cell contains all of the necessary import for this notebook to run. Please make sure this is run every time you wish to work with the notebook"
   ]
  },
  {
   "cell_type": "code",
   "execution_count": 1,
   "metadata": {},
   "outputs": [],
   "source": [
    "import python_files.create_defaults as cd\n",
    "import python_files.read_settings as rs\n",
    "import python_files.read_files as rf\n",
    "import python_files.analyze_data as ad"
   ]
  },
  {
   "cell_type": "markdown",
   "metadata": {},
   "source": [
    "## Prep Files\n",
    "\n",
    "Read in the protein/peptide files as well as the settings file"
   ]
  },
  {
   "cell_type": "markdown",
   "metadata": {},
   "source": [
    "### Generate Template Files\n"
   ]
  },
  {
   "cell_type": "markdown",
   "metadata": {},
   "source": [
    "\n",
    "If Create_Templates is False, then no template files will be created. \n",
    "\n",
    "If Create_Templates is True, then the following files will be created.    \n",
    "- input_file_template.yaml\n",
    "  - Change the number of files to create the right number!\n",
    "\n",
    "WARNING: This function will overwrite any file with the same name. So change the name of your files before pressing play on the cell\n",
    "\n"
   ]
  },
  {
   "cell_type": "code",
   "execution_count": 2,
   "metadata": {},
   "outputs": [],
   "source": [
    "Create_Templates = False\n",
    "\n",
    "if Create_Templates:\n",
    "    \n",
    "    # Generate input_file_template.yaml\n",
    "    number_of_files = 1\n",
    "    cd.generate_input_files_template(number_of_files)\n",
    "\n",
    "    # Generate settings_template.yaml\n",
    "    cd.generate_settings_template()\n"
   ]
  },
  {
   "cell_type": "markdown",
   "metadata": {},
   "source": [
    "### Read Settings"
   ]
  },
  {
   "cell_type": "markdown",
   "metadata": {},
   "source": [
    "The following cell calls one function that accepts one variable: yaml_settings_files. yaml_input_files is a file name (.yaml) that carries the information regarding the experiment design, the desired filters, the desired analysis functions, and the plotting options.     \n",
    "\n",
    "For a template for this file, change \"Create_Defaults\" to True above.    \n",
    "Be sure to change the name of your files so it is not overwritten.\n",
    "\n",
    "**Notes**\n",
    "\n",
    "_Note 1_: "
   ]
  },
  {
   "cell_type": "code",
   "execution_count": 3,
   "metadata": {},
   "outputs": [],
   "source": [
    "yaml_settings_file = \"settings.yaml\"\n",
    "\n",
    "settings = rs.read_settings(yaml_settings_file)"
   ]
  },
  {
   "cell_type": "markdown",
   "metadata": {},
   "source": [
    "### Read Data"
   ]
  },
  {
   "cell_type": "markdown",
   "metadata": {},
   "source": [
    "The following cell calls one function that accepts two variables: yaml_input_files and settings. yaml_input_files is a file name (.yaml) that carries the information regarding the protein and peptide matrices to be processed.     \n",
    "\n",
    "For a template for this file, change \"Create_Defaults\" to True above. (Change number_of_files to generate the right number of template spots).    \n",
    "Be sure to change the name of your files so it is not overwritten.\n",
    "\n",
    "**Notes**\n",
    "\n",
    "_Note 1_: Place the file name in quotes.     \n",
    "_Note 2_: If the file is in a sub folder, write the name of the subfolder, followed by a \"/\", then the name of the file.\n"
   ]
  },
  {
   "cell_type": "code",
   "execution_count": 4,
   "metadata": {},
   "outputs": [],
   "source": [
    "yaml_input_files = \"testing.yaml\"\n",
    "\n",
    "abundance_df_dict = rf.read_files(yaml_input_files, settings)"
   ]
  },
  {
   "cell_type": "markdown",
   "metadata": {},
   "source": [
    "### Analyze Data"
   ]
  },
  {
   "cell_type": "markdown",
   "metadata": {},
   "source": [
    "Proceed with the analysis of the data"
   ]
  },
  {
   "cell_type": "code",
   "execution_count": null,
   "metadata": {},
   "outputs": [],
   "source": []
  }
 ],
 "metadata": {
  "kernelspec": {
   "display_name": ".venvchem",
   "language": "python",
   "name": "python3"
  },
  "language_info": {
   "codemirror_mode": {
    "name": "ipython",
    "version": 3
   },
   "file_extension": ".py",
   "mimetype": "text/x-python",
   "name": "python",
   "nbconvert_exporter": "python",
   "pygments_lexer": "ipython3",
   "version": "3.11.10"
  }
 },
 "nbformat": 4,
 "nbformat_minor": 2
}
